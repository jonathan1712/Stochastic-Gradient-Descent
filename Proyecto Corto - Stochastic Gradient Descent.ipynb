{
 "cells": [
  {
   "cell_type": "markdown",
   "metadata": {},
   "source": [
    "# $Gradiente \\ descendente$"
   ]
  },
  {
   "cell_type": "markdown",
   "metadata": {},
   "source": [
    "$Es\\ una\\ técnica\\ de\\ optimización\\ utilizada \\ en \\ el \\ aprendizaje \\ automático,\\ usada \\ a \\ la \\ hora \\ del \\ entrenamiento \\ de \\ un \\ modelo.\\ Es \\ un \\\\ algoritmo \\ que \\ se \\ basa \\ en \\ una \\ función \\ convexa, \\ que \\ mediante \\ el \\ ajuste \\ de \\ sus \\ parámetros \\ de \\ forma \\ iterativa \\ logra \\ minimizar \\ una \\\\ función \\ de \\ costo \\ dada, \\ a \\ su \\ mínimo. $"
   ]
  },
  {
   "cell_type": "markdown",
   "metadata": {},
   "source": [
    "$La\\ principal\\ desventaja\\ de\\ esta\\ técnica\\ se\\ encuentra\\ en\\ el\\ ajuste\\ adecuado\\ de\\ la\\ tasa\\ de\\ aprendizaje\\ α.\\ Si\\ α\\ toma\\ un\\ valor\\ muy\\\\ pequeño\\ es\\ necesario\\ un\\ gran\\ número\\ de\\ iteraciones\\ para\\ que\\ el\\ proceso\\ converja,\\ si\\ por\\ otro\\ lado\\ α\\ es\\ muy \\ grande,\\ entonces \\\\ puede \\ ocurrir \\ que \\ el \\ proceso \\ no \\ converja.$"
   ]
  },
  {
   "cell_type": "markdown",
   "metadata": {},
   "source": [
    "# $Descenso \\ Gradual \\ Estocástico (SDG)$"
   ]
  },
  {
   "cell_type": "markdown",
   "metadata": {},
   "source": [
    "$Es \\ un \\ enfoque \\ simple \\ pero \\ muy \\ eficiente \\ para \\ el \\ aprendizaje \\ discriminativo \\ de \\ los \\ clasificadores \\ lineales \\ bajo \\ las \\ funciones \\ de \\\\ pérdida \\ convexa \\ tales \\ como \\ Máquinas \\ de \\ Vector \\ de \\ Soporte \\ (lineales) \\ y \\ Regresión \\ Logística. \\ A \\ pesar \\ de \\ que \\ SGD \\ ha \\ existido \\\\ en \\ la \\ comunidad \\ de \\ aprendizaje \\ automático \\ durante \\ mucho \\ tiempo, \\ recientemente \\ recibió \\ una \\ considerable \\ atención \\ en \\ el \\ contexto \\\\ del \\ aprendizaje \\ a \\ gran \\ escala.$\n"
   ]
  },
  {
   "cell_type": "markdown",
   "metadata": {},
   "source": [
    "$Esta \\ técnica \\ es \\ una \\ modificación \\ de \\ la \\ técnica \\ de \\ gradiente \\ descendente, \\ la \\ cual \\ consiste \\ en \\ minimizar \\ el \\ conjunto \\ de \\ iteraciones \\\\ de \\ un \\ algoritmo, \\ con \\ el \\ objetivo \\ de \\ reducir \\ de \\ manera \\ considerable \\ la \\ cantidad \\ de \\ cómputo \\ necesario \\ para \\ obtener \\ un \\ resultado \\\\ que \\ se \\ puede \\ considerar \\ como \\ aceptable.$\n",
    "\n",
    "$Para \\ realizar \\ lo \\ anterior \\ se \\ requiere \\ de \\ una \\ fórmula \\ que \\ permita \\ determinar \\ dado \\ un \\ punto \\ aleatorio \\ la \\ pendiente \\ actual \\\\ y \\ de \\ esta \\ forma, \\ encontrar \\ el \\ siguiente \\ punto \\ en \\ la \\ próxima \\ iteración.$\n",
    "\n",
    "$La \\ fórmula \\ es \\ la \\ siguiente:$\n",
    "\n",
    "<center>$xi+1 \\ = \\ xi \\ - \\ α \\ * \\ d(f(xi))$</center>\n",
    "\n",
    "$Donde: $\n",
    "\n",
    "<center>$xi+1: \\ es \\ el \\ resultado \\ de \\ la \\ próxima \\ iteración.$</center>\n",
    "<center>$xi: \\ es \\ el \\ resultado \\ de \\ la \\ anterior \\ iteración \\ o \\ en \\ su \\ defecto \\ el \\ primer \\ número \\ de \\ la \\ iteración.$</center>\n",
    "<center>$α: \\ es \\ conocido \\ como \\ la \\ tasa \\ de \\ aprendizaje,\\ en \\ otras \\ palabras \\ que \\ tanto \\ se \\ avanza \\ en \\ cada \\ iteración.$</center>\n",
    "<center>$d(f(xi)): \\ representa \\ la \\ derivada \\ del \\ punto \\ de \\ la \\ iteración \\ anterior.$</center>\n",
    "\n",
    "$Ejemplo \\ en \\ python:$\n",
    "\n",
    "\n",
    "\n",
    "\n",
    "$def \\ sgd(alpha,theta0,iteraciones,funcion):\\\\\n",
    "    \\ \\ \\ \\ \\ cont_iter \\ = \\ 0 \\\\                             \n",
    "    \\ \\ \\ \\ \\ theta \\ = \\ theta0 \\\\                            \n",
    "    \\ \\ \\ \\ \\ for \\ iter \\ in \\ range(cont_iter \\ + \\ 1, \\ iteraciones, \\ + \\ 1): \\\\                 \n",
    "        \\ \\ \\ \\ \\ \\ \\ \\ \\ \\ \\ grad \\ = \\ sc.derivative(funcion,theta) \\\\                     \n",
    "        \\ \\ \\ \\ \\ \\ \\ \\ \\ \\ \\ theta \\ = \\ theta \\ - \\ (alpha \\ * \\ grad) \\\\                  \n",
    "    \\ \\ \\ \\ \\ return \\ theta \\\\                              $\n",
    "    \n",
    "$Como \\ se \\ puede \\ observar \\ es \\ básicamente \\ la \\ implementación \\ de \\ la \\ fórmula \\ presentada \\ anteriormente, \\ con \\ la \\ novedad \\ de \\ que \\ se \\ agrega \\ como \\\\ parámetro \\ el \\ número \\ de \\ iteraciones.$ \n",
    "\n",
    "\n",
    "\n",
    "\n"
   ]
  },
  {
   "cell_type": "markdown",
   "metadata": {},
   "source": [
    "$Las \\ ventajas \\ del \\ descenso \\ gradiente \\ estocástico \\ son: \\\\ \\ \\ \\ \\ Eficiencia: \\ involucra \\ menos \\ computo, \\ ya \\ que, \\ minimiza \\ la \\ cantidad \\ de \\ iteraciones \\ necesarias.\\\\ \\ \\ \\ \\ Facilidad \\ de \\ implementación \\ (muchas \\ oportunidades \\ para \\ la \\ optimización \\ del \\ código).$"
   ]
  },
  {
   "cell_type": "markdown",
   "metadata": {},
   "source": [
    "$Las \\ desventajas \\ del \\ descenso \\ graduado \\ estocástico \\ incluyen:\\\\ \\ \\ \\ \\ SGD \\ requiere \\ una \\ serie \\ de \\ hiper \\ parámetros \\ como \\ el \\ parámetro \\ de \\ regularización \\ y \\ el \\ número \\ de \\ iteraciones.\\\\ \\ \\ \\ \\ SGD \\ es \\ sensible \\ al \\ escalado \\ de \\ características.$\n"
   ]
  },
  {
   "cell_type": "markdown",
   "metadata": {},
   "source": [
    "# $Referencias$"
   ]
  },
  {
   "cell_type": "markdown",
   "metadata": {},
   "source": [
    " $Donges, \\ N.  \\ (2018).  \\ Gradient  \\ Descent  \\ in  \\ a  \\ Nutshell.  \\ Agosto  \\ 18,  \\ 2018,  \\ de  \\ Towards  \\ Data  \\ Science.  \\\\ Sitio  \\ web:  \\ https://towardsdatascience.com/gradient-descent-in-a-nutshell-eaf8c18212f0$"
   ]
  },
  {
   "cell_type": "markdown",
   "metadata": {},
   "source": [
    "$Kim,  \\ A.  \\ (2017).  \\ Difference  \\ between  \\ Batch  \\ Gradient  \\ Descent  \\ and  \\ Stochastic  \\ Gradient  \\ Descent.  \\ Agosto  \\ 18,  \\ 2018,  \\ de  \\ Towards  \\ Data  \\ Science.  \\\\ Sitio  \\ web:  \\ https://towardsdatascience.com/difference-between-batch-gradient-descent-and-stochastic-gradient-descent-1187f1291aa1$\n"
   ]
  },
  {
   "cell_type": "markdown",
   "metadata": {},
   "source": [
    "$Scikit-learn. \\ (2017). \\ Stochastic \\ Gradient \\ Descent. \\ Agosto \\ 18, \\ 2018, \\ de \\ Scikit-lears. \\\\ Sitio \\ web: \\ http://scikit-learn.org/stable/modules/sgd.html$"
   ]
  },
  {
   "cell_type": "code",
   "execution_count": 4,
   "metadata": {},
   "outputs": [
    {
     "data": {
      "image/png": "[encoded data removed]",
      "text/plain": [
       "<Figure size 432x288 with 1 Axes>"
      ]
     },
     "metadata": {},
     "output_type": "display_data"
    }
   ],
   "source": [
    "import numpy as np\n",
    "import scipy.misc as sc\n",
    "import random\n",
    "import matplotlib.pyplot as plt\n",
    "\n",
    "# Funciones de polinomios de ejemplos\n",
    "def funcion_a(x):\n",
    "    return ((x+4)*(x+1)*(x-10)*(x-3))/20 + 0.5\n",
    "def funcion_b(x):\n",
    "    return (x**3+2*x+8)/20\n",
    "\n",
    "# Gráfica de la funcion seleccionada\n",
    "def grafica_funcion(funcion, puntos):\n",
    "    _t = np.arange(-5,5,0.01)\n",
    "    plt.plot(_t[0],funcion(_t[0]),\".\",c=\"blue\",label=\"Función\")\n",
    "    for t in _t:\n",
    "        plt.plot(t,funcion(t),\".\",c=\"blue\")\n",
    "\n",
    "# Aplicación y graficación del algoritmo del sgd al algoritmo seleccionado\n",
    "def sgd(alpha,theta0,iteraciones,funcion):\n",
    "    #theta0: toma el valor del xi\n",
    "    #theta: variable para aplicar la formula del xi + 1, de forma que no se pierda el anterior valor de theta0\n",
    "    #grad: derivada de la función en el punto xi\n",
    "    \n",
    "    cont_iter = 0\n",
    "    theta = theta0\n",
    "    plt.plot(theta,funcion(theta),\"o\",c=\"green\", label=\"Xi\")\n",
    "    plt.plot(theta,funcion(theta),\".\",c=\"yellow\", label=\"Descenso\")\n",
    "    for iter in range(cont_iter + 1, iteraciones, + 1):\n",
    "        grad = sc.derivative(funcion,theta)\n",
    "        theta = theta - (alpha * grad)\n",
    "        plt.plot(theta,funcion(theta),\".\",c=\"yellow\")\n",
    "\n",
    "    plt.plot(theta,funcion(theta),\"o\",c=\"red\", label=\"Punto Min\")\n",
    "       \n",
    "    return theta    \n",
    "\n",
    "# Se debe de seleccionar el polinomio a graficar, para esto solo descomente la sección que desee\n",
    "def main():\n",
    "    # Punto de inicio\n",
    "    xi = random.randint(-5, 5)\n",
    "\n",
    "    \n",
    "    # Polinimo 1 - Función = ((x+4)*(x+1)*(x-10)*(x-3))/20 + 0.5\n",
    "    #grafica_funcion(funcion_a, 100)\n",
    "    #minimo = sgd(0.01,xi,100,funcion_a)\n",
    "    #plt.title(\"Función: ((x+4)*(x+1)*(x-10)*(x-3))/20 + 0.5   Min: \" + \"(\" + str(round(minimo,4)) + \",\" + str(round(funcion_a(minimo),4)) + \")\")\n",
    "\n",
    "    # Polinomio 2 - Función = (x**3)-4*(x**2)-7*x+10\n",
    "    grafica_funcion(funcion_b, 100)\n",
    "    minimo = sgd(0.01,xi,100,funcion_b)\n",
    "    plt.title(\"Función: (x**3)-4*(x**2)-7*x+10   Min: \" + \"(\" + str(round(minimo,4)) + \",\" + str(round(funcion_b(minimo),4)) + \")\")    \n",
    "\n",
    "    plt.legend()    \n",
    "    plt.show()\n",
    "\n",
    "main()"
   ]
  },
  {
   "cell_type": "code",
   "execution_count": null,
   "metadata": {},
   "outputs": [],
   "source": []
  },
  {
   "cell_type": "code",
   "execution_count": null,
   "metadata": {},
   "outputs": [],
   "source": []
  },
  {
   "cell_type": "code",
   "execution_count": null,
   "metadata": {},
   "outputs": [],
   "source": []
  }
 ],
 "metadata": {
  "kernelspec": {
   "display_name": "Python 3",
   "language": "python",
   "name": "python3"
  },
  "language_info": {
   "codemirror_mode": {
    "name": "ipython",
    "version": 3
   },
   "file_extension": ".py",
   "mimetype": "text/x-python",
   "name": "python",
   "nbconvert_exporter": "python",
   "pygments_lexer": "ipython3",
   "version": "3.7.0"
  }
 },
 "nbformat": 4,
 "nbformat_minor": 2
}
